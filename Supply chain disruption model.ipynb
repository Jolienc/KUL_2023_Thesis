{
 "cells": [
  {
   "cell_type": "code",
   "execution_count": null,
   "id": "19463380",
   "metadata": {},
   "outputs": [],
   "source": [
    "from pathlib import Path\n",
    "import sys\n",
    "#src_path = str(Path.cwd().parent / \"src\")\n",
    "#sys.path.append(src_path)\n",
    "\n",
    "from Supply_chain_disruption_model import SimulationModel\n",
    "import Supply_chain_disruption_model as scd\n",
    "import Centrality as cen\n",
    "\n",
    "import numpy as np\n",
    "#from scipy.stats import poisson\n",
    "#import random\n",
    "import pandas as pd\n",
    "import plotly.express as px\n",
    "\n",
    "#!pip install scikit-survival\n",
    "\n",
    "from datetime import datetime"
   ]
  },
  {
   "cell_type": "markdown",
   "id": "08a86e2e",
   "metadata": {},
   "source": [
    "# Simulation"
   ]
  },
  {
   "cell_type": "markdown",
   "id": "02f7d722",
   "metadata": {},
   "source": [
    "Define model parameters."
   ]
  },
  {
   "cell_type": "code",
   "execution_count": null,
   "id": "09937bae",
   "metadata": {
    "code_folding": []
   },
   "outputs": [],
   "source": [
    "# p: The proportion (percentage/100) of firms that are damaged by the disruption. (default is 0.1)\n",
    "# damage_level: The average amount of damage inflicted on affected firms. On average, (100*damage_level)% of the \n",
    "#     production capacity is damaged. (default is 0.2)\n",
    "# margin: Specifies the margin around the given average damage level. The actual damage will lie between \n",
    "#     (damage_level - margin) and (damage_level + margin), truncated from below by zero and from above by one. \n",
    "#     (default is 0.1)\n",
    "# tau: The number of days over which the inventory is restored to the target value. (default is 6)\n",
    "# k: The average target inventory of a firm, specified as number of days of product use. (default is 9)\n",
    "#     value=9 from paper inoue_firm-level_2019\n",
    "# gamma: The recovery rate of damaged firms. (default is 0.5)\n",
    "# sigma: The number of days without recovery and production in the firms damaged after the disruption. (default is 6)\n",
    "# alpha: The number of days a firm tolerates a negative inventory of a supplier, before it tries to replace the supplier. \n",
    "#     (default is 2)\n",
    "# u: Each firm has on average (100*u)% capacity utilization. This is used to assign a maximum possible production \n",
    "#     capacity to each firm. (default is 0.8)\n",
    "# max_init_inventory: Whether firms initially have a full inventory or not. (default is True)\n",
    "# fixed_target_inventory: Whether the target inventory value is fixed or determined on the previous day's realized \n",
    "#     demand. (default is True)\n",
    "# nb_iter: The number of iterations (days) to run the simulation. (default is 100)\n",
    "param = {\"p\": 0.2, \"damage_level\": 0.7, \"margin\": 0.1, \"tau\": 6, \"k\": 9, \"gamma\": 0.5, \"sigma\": 6, \"alpha\": 2, \n",
    "         \"u\": 0.8, \"max_init_inventory\": False, \"fixed_target_inventory\": True, \"nb_iter\": 10*365}"
   ]
  },
  {
   "cell_type": "markdown",
   "id": "8c3d18e1",
   "metadata": {},
   "source": [
    "Generate data."
   ]
  },
  {
   "cell_type": "code",
   "execution_count": null,
   "id": "6d747e15",
   "metadata": {},
   "outputs": [],
   "source": [
    "# dim: number of firms\n",
    "dim = 200\n",
    "# nb_s: number of sectors\n",
    "nb_s = 50\n",
    "\n",
    "adj, A, C, sector = scd.generate_data(dim, nb_s)"
   ]
  },
  {
   "cell_type": "markdown",
   "id": "4825cae0",
   "metadata": {},
   "source": [
    "Execute the simulation."
   ]
  },
  {
   "cell_type": "code",
   "execution_count": null,
   "id": "000c1066",
   "metadata": {
    "scrolled": true
   },
   "outputs": [],
   "source": [
    "# intialize the model\n",
    "mdl = SimulationModel(A, sector, C, **param)\n",
    "\n",
    "# time the simulation\n",
    "start=datetime.now()  \n",
    "\n",
    "# run the model\n",
    "mdl.run_simulation(print_iter=False)\n",
    "\n",
    "print(f\"runtime: {datetime.now()-start}\")"
   ]
  },
  {
   "cell_type": "code",
   "execution_count": null,
   "id": "9aeebb53",
   "metadata": {},
   "outputs": [],
   "source": [
    "print(f\"{len(mdl.damaged_ind)} firms were damaged by the disruption, which is {100*len(mdl.damaged_ind)/dim :.1f}%.\")\n",
    "print(f\"{len(mdl.defaults)} out of {dim} firms defaulted, which is {100*len(mdl.defaults)/dim :.1f}%.\")\n",
    "\n",
    "damaged_and_defaulted = list(set(mdl.damaged_ind) & set(mdl.defaults.keys()))\n",
    "\n",
    "if len(mdl.damaged_ind) > 0:\n",
    "    perc_damaged_and_defaulted_of_damaged = 100*len(damaged_and_defaulted)/len(mdl.damaged_ind)\n",
    "    print(f\"Of the damaged firms, {perc_damaged_and_defaulted_of_damaged :.1f}% defaulted, \"\n",
    "          f\"{100 - perc_damaged_and_defaulted_of_damaged :.1f}% survived.\")\n",
    "\n",
    "if len(mdl.defaults)> 0:\n",
    "    perc_damaged_and_defaulted_of_defaulted = 100*len(damaged_and_defaulted)/len(mdl.defaults)\n",
    "    print(f\"Of the defaulted firms, {perc_damaged_and_defaulted_of_defaulted :.1f}% had been damaged, \"\n",
    "          f\"{100 - perc_damaged_and_defaulted_of_defaulted :.1f}% had not been damaged. \\n\")\n",
    "\n",
    "    print(f\"This means {100 - perc_damaged_and_defaulted_of_defaulted :.1f}% of the firms that defaulted did so due to \"\n",
    "\n",
    "          f\"network propagation of the damage.\")\n",
    "\n",
    "#print(f\"damaged firms that also defaulted: \\n{sorted(damaged_and_defaulted)}\\n\")\n",
    "#print(f\"damaged (ind): \\n{mdl.damaged_ind} \\n\")\n",
    "#print(f\"defaults (ind: iteration): \\n{mdl.defaults} \\n\")\n",
    "#print(f\"defaulted firms: \\n{sorted(mdl.defaults.keys())} \\n\")\n",
    "#print(f\"default times: \\n{sorted(mdl.defaults.values())}\")"
   ]
  },
  {
   "cell_type": "code",
   "execution_count": null,
   "id": "c0b5a09c",
   "metadata": {},
   "outputs": [],
   "source": [
    "print(f\"defaulted firms: {sorted(list(mdl.defaults.keys()))}\\n\")\n",
    "print(f\"damaged firms: {sorted(mdl.damaged_ind)}\")"
   ]
  },
  {
   "cell_type": "code",
   "execution_count": null,
   "id": "578e4ec5",
   "metadata": {},
   "outputs": [],
   "source": [
    "# filter which firms are plotted\n",
    "## all\n",
    "select_firms = []  \n",
    "## only those directly damaged\n",
    "#select_firms = mdl.damaged_ind\n",
    "## only those not directly damaged\n",
    "#select_firms = [i for i in range(dim) if i not in mdl.damaged_ind]\n",
    "## specific firms\n",
    "#select_firms = [5, 63]\n",
    "\n",
    "mdl.plot_capacity(relative=True, col_by_sector=False, show_leg=True, select_firms=select_firms)"
   ]
  },
  {
   "cell_type": "code",
   "execution_count": null,
   "id": "134e713a",
   "metadata": {},
   "outputs": [],
   "source": [
    "#mdl.plot_capacity(relative=True, col_by_sector=True, show_leg=True, select_firms=[])"
   ]
  },
  {
   "cell_type": "code",
   "execution_count": null,
   "id": "23a66368",
   "metadata": {},
   "outputs": [],
   "source": [
    "#mdl.plot_capacity(relative=False, col_by_sector=False)"
   ]
  },
  {
   "cell_type": "markdown",
   "id": "abb6462a",
   "metadata": {},
   "source": [
    "# Time to return to equilibrium"
   ]
  },
  {
   "cell_type": "code",
   "execution_count": null,
   "id": "108ef2a2",
   "metadata": {},
   "outputs": [],
   "source": [
    "# relative production capacity data\n",
    "prodcap_df = mdl.get_plot_df(relative=True, select_firms=[])\n",
    "prodcap_df"
   ]
  },
  {
   "cell_type": "code",
   "execution_count": null,
   "id": "26261c7a",
   "metadata": {},
   "outputs": [],
   "source": [
    "# max deviation from median allowed during equilibrium\n",
    "mar = 0.005  # 0.001, 0.005"
   ]
  },
  {
   "cell_type": "code",
   "execution_count": null,
   "id": "d304a6b4",
   "metadata": {},
   "outputs": [],
   "source": [
    "# median production per firm\n",
    "prodcap_medians = prodcap_df.groupby(\"firm\")[\"prod_cap\"].median().to_frame()\n",
    "prodcap_medians.reset_index(inplace=True)\n",
    "prodcap_medians.rename(columns={\"prod_cap\": \"prod_cap_median\"}, inplace=True)\n",
    "prodcap_medians"
   ]
  },
  {
   "cell_type": "code",
   "execution_count": null,
   "id": "f325389b",
   "metadata": {},
   "outputs": [],
   "source": [
    "prodcap_df = prodcap_df.merge(prodcap_medians, on='firm')\n",
    "prodcap_df"
   ]
  },
  {
   "cell_type": "code",
   "execution_count": null,
   "id": "ef114fed",
   "metadata": {},
   "outputs": [],
   "source": [
    "# absolute deviation from median\n",
    "prodcap_df[\"dev\"] = abs(prodcap_df[\"prod_cap_median\"] - prodcap_df[\"prod_cap\"])\n",
    "prodcap_df"
   ]
  },
  {
   "cell_type": "code",
   "execution_count": null,
   "id": "e249e0d7",
   "metadata": {},
   "outputs": [],
   "source": [
    "# find start time of equilibrium state\n",
    "eq_ret_time = np.zeros(dim)\n",
    "for i in range(dim):\n",
    "    firm_df = prodcap_df.loc[prodcap_df.firm == i].copy()\n",
    "    firm_df = firm_df.sort_values(\"x\", ascending=False)\n",
    "    if len(firm_df[firm_df.dev > mar]) > 0:\n",
    "        eq_ret_time[i] = firm_df[firm_df.dev > mar].x.values[0] + 1\n",
    "    else:\n",
    "        eq_ret_time[i] = 0\n",
    "\n",
    "# boolean indicator of whether equilibrium was reached\n",
    "reached_eq = eq_ret_time != param[\"nb_iter\"] + 1\n",
    "for i in mdl.defaults.keys():\n",
    "    reached_eq[i] = False\n",
    "    eq_ret_time[i] = param[\"nb_iter\"] + 1"
   ]
  },
  {
   "cell_type": "markdown",
   "id": "521a1d6b",
   "metadata": {},
   "source": [
    "# PN score"
   ]
  },
  {
   "cell_type": "code",
   "execution_count": null,
   "id": "6238e1a6",
   "metadata": {},
   "outputs": [],
   "source": [
    "scores = cen.PN_score(adj).reshape(1,-1)[0]"
   ]
  },
  {
   "cell_type": "code",
   "execution_count": null,
   "id": "fd49b4fc",
   "metadata": {},
   "outputs": [],
   "source": [
    "damaged = np.zeros(dim).astype(bool)\n",
    "damaged[mdl.damaged_ind] = True\n",
    "\n",
    "defaulted = np.zeros(dim).astype(bool)\n",
    "defaulted[list(mdl.defaults.keys())] = True\n",
    "\n",
    "status = np.zeros(dim).astype(int).astype(str)\n",
    "status[damaged] = \"dam\"\n",
    "status[defaulted] = \"def\"\n",
    "status[damaged*defaulted] = \"dam+def\"\n",
    "status[(~damaged)*(~defaulted)] = \"norm\""
   ]
  },
  {
   "cell_type": "code",
   "execution_count": null,
   "id": "e54f0b73",
   "metadata": {},
   "outputs": [],
   "source": [
    "fig = px.scatter(x=scores, y=eq_ret_time, color=status, symbol=reached_eq, \n",
    "                 title=\"Absolute values in adjacency matrix\",\n",
    "                 labels={'x':'PN score', 'y':'equilibrium reached time (day)', 'color':'status', 'symbol':'reached eq.'}) \n",
    "fig.show()"
   ]
  },
  {
   "cell_type": "code",
   "execution_count": null,
   "id": "24cd8740",
   "metadata": {},
   "outputs": [],
   "source": [
    "adj_bin = np.copy(adj)\n",
    "adj_bin[adj_bin > 0] = 1\n",
    "adj_bin[adj_bin < 0] = -1\n",
    "\n",
    "scores_bin = cen.PN_score(adj_bin).reshape(1,-1)[0]"
   ]
  },
  {
   "cell_type": "code",
   "execution_count": null,
   "id": "45db8cf2",
   "metadata": {},
   "outputs": [],
   "source": [
    "fig = px.scatter(x=scores_bin, y=eq_ret_time, color=status, symbol=reached_eq, \n",
    "                 title=\"Binary values in adjacency matrix\",\n",
    "                 labels={'x':'PN score', 'y':'equilibrium reached time (day)', 'color':'status', 'symbol':'reached eq.'})\n",
    "fig.show()"
   ]
  },
  {
   "cell_type": "markdown",
   "id": "652b5f9c",
   "metadata": {},
   "source": [
    "# Survival analysis"
   ]
  },
  {
   "cell_type": "code",
   "execution_count": null,
   "id": "9e85b406",
   "metadata": {},
   "outputs": [],
   "source": [
    "data_y = pd.DataFrame(np.transpose([reached_eq,eq_ret_time]), columns=[\"reached_eq\",\"eq_time\"])\n",
    "data_y[\"reached_eq\"] = data_y[\"reached_eq\"].astype(bool)\n",
    "data_y.head()"
   ]
  },
  {
   "cell_type": "code",
   "execution_count": null,
   "id": "84dc3577",
   "metadata": {},
   "outputs": [],
   "source": [
    "data_x = pd.DataFrame(np.transpose([scores,damaged]), columns=[\"PN\",\"damaged\"])\n",
    "data_x[\"damaged\"] = data_x[\"damaged\"].astype(bool)\n",
    "data_x.head()"
   ]
  },
  {
   "cell_type": "code",
   "execution_count": null,
   "id": "fb0d2700",
   "metadata": {},
   "outputs": [],
   "source": [
    "import matplotlib.pyplot as plt\n",
    "from sksurv.nonparametric import kaplan_meier_estimator\n",
    "\n",
    "time, survival_prob = kaplan_meier_estimator(data_y[\"reached_eq\"], data_y[\"eq_time\"])\n",
    "plt.step(time, survival_prob, where=\"post\")\n",
    "plt.ylabel(\"est. probability of survival $\\hat{S}(t)$\")\n",
    "plt.xlabel(\"time $t$\")\n",
    "plt.show()"
   ]
  },
  {
   "cell_type": "markdown",
   "id": "0a53dcdc",
   "metadata": {},
   "source": [
    "\\textbf{Update survival analysis with defaulted + damaged status.} "
   ]
  },
  {
   "cell_type": "code",
   "execution_count": null,
   "id": "89879f58",
   "metadata": {},
   "outputs": [],
   "source": [
    "for damage_status in (True, False):\n",
    "    mask_damaged = data_x[\"damaged\"] == damage_status\n",
    "    time_damaged, survival_prob_damaged = kaplan_meier_estimator(\n",
    "        data_y[\"reached_eq\"][mask_damaged],\n",
    "        data_y[\"eq_time\"][mask_damaged])\n",
    "\n",
    "    plt.step(time_damaged, survival_prob_damaged, where=\"post\",\n",
    "             label=\"Damaged = %s\" % damage_status)\n",
    "\n",
    "plt.ylabel(\"est. probability of survival $\\hat{S}(t)$\")\n",
    "plt.xlabel(\"time $t$\")\n",
    "plt.legend(loc=\"best\")\n",
    "plt.show()"
   ]
  },
  {
   "cell_type": "code",
   "execution_count": null,
   "id": "08c6ca15",
   "metadata": {},
   "outputs": [],
   "source": [
    "from sklearn import set_config\n",
    "from sksurv.linear_model import CoxPHSurvivalAnalysis\n",
    "\n",
    "set_config(display=\"text\")  # displays text representation of estimators\n",
    "\n",
    "data_x_numeric = data_x.copy()\n",
    "data_x_numeric[\"damaged\"] = data_x_numeric[\"damaged\"].astype(float)\n",
    "\n",
    "dt = np.dtype([('reached_eq', '?'), ('eq_time', '<f8')])\n",
    "data_y = np.array(list(zip(reached_eq,eq_ret_time)), dtype=dt)\n",
    "\n",
    "estimator = CoxPHSurvivalAnalysis()\n",
    "estimator.fit(data_x_numeric, data_y)"
   ]
  },
  {
   "cell_type": "code",
   "execution_count": null,
   "id": "78075e90",
   "metadata": {},
   "outputs": [],
   "source": [
    "pd.Series(estimator.coef_, index=data_x_numeric.columns)"
   ]
  },
  {
   "cell_type": "code",
   "execution_count": null,
   "id": "ac67b6ed",
   "metadata": {},
   "outputs": [],
   "source": [
    "estimator.score(data_x_numeric, data_y)"
   ]
  },
  {
   "cell_type": "markdown",
   "id": "7e0940c4",
   "metadata": {},
   "source": [
    "# Build network for visualization in presentation"
   ]
  },
  {
   "cell_type": "code",
   "execution_count": null,
   "id": "4e5975f7",
   "metadata": {},
   "outputs": [],
   "source": [
    "dim = 15\n",
    "nb_s = 5\n",
    "adj, A, C, sector = scd.generate_data(dim, nb_s)"
   ]
  },
  {
   "cell_type": "code",
   "execution_count": null,
   "id": "fbe6c332",
   "metadata": {},
   "outputs": [],
   "source": [
    "df = pd.DataFrame(columns=[\"supplier\",\"customer\"])\n",
    "\n",
    "for i in range(dim):\n",
    "    customer = i\n",
    "    suppliers = A[i]\n",
    "    for j in range(dim):\n",
    "        if suppliers[j] > 0:\n",
    "            df = pd.concat([df, pd.DataFrame([[int(j), i]], columns=[\"supplier\",\"customer\"])])\n",
    "\n",
    "df"
   ]
  },
  {
   "cell_type": "code",
   "execution_count": null,
   "id": "32a61901",
   "metadata": {},
   "outputs": [],
   "source": [
    "#df.to_csv('links.csv', index=False)"
   ]
  },
  {
   "cell_type": "code",
   "execution_count": null,
   "id": "63aa50c1",
   "metadata": {},
   "outputs": [],
   "source": [
    "df_firms = pd.DataFrame(list(range(dim)), columns=[\"firm\"])\n",
    "df_firms[\"sector\"] = sector\n",
    "df_firms"
   ]
  },
  {
   "cell_type": "code",
   "execution_count": null,
   "id": "40f9166d",
   "metadata": {},
   "outputs": [],
   "source": [
    "#df_firms.to_csv('firms.csv', index=False)"
   ]
  },
  {
   "cell_type": "code",
   "execution_count": null,
   "id": "aeecc6cf",
   "metadata": {},
   "outputs": [],
   "source": []
  }
 ],
 "metadata": {
  "kernelspec": {
   "display_name": "Python 3 (ipykernel)",
   "language": "python",
   "name": "python3"
  },
  "language_info": {
   "codemirror_mode": {
    "name": "ipython",
    "version": 3
   },
   "file_extension": ".py",
   "mimetype": "text/x-python",
   "name": "python",
   "nbconvert_exporter": "python",
   "pygments_lexer": "ipython3",
   "version": "3.9.5"
  },
  "latex_envs": {
   "LaTeX_envs_menu_present": true,
   "autoclose": false,
   "autocomplete": true,
   "bibliofile": "biblio.bib",
   "cite_by": "apalike",
   "current_citInitial": 1,
   "eqLabelWithNumbers": true,
   "eqNumInitial": 1,
   "hotkeys": {
    "equation": "Ctrl-E",
    "itemize": "Ctrl-I"
   },
   "labels_anchors": false,
   "latex_user_defs": false,
   "report_style_numbering": false,
   "user_envs_cfg": false
  },
  "toc": {
   "base_numbering": 1,
   "nav_menu": {},
   "number_sections": true,
   "sideBar": true,
   "skip_h1_title": false,
   "title_cell": "Table of Contents",
   "title_sidebar": "Contents",
   "toc_cell": false,
   "toc_position": {},
   "toc_section_display": true,
   "toc_window_display": false
  },
  "varInspector": {
   "cols": {
    "lenName": 16,
    "lenType": 16,
    "lenVar": 40
   },
   "kernels_config": {
    "python": {
     "delete_cmd_postfix": "",
     "delete_cmd_prefix": "del ",
     "library": "var_list.py",
     "varRefreshCmd": "print(var_dic_list())"
    },
    "r": {
     "delete_cmd_postfix": ") ",
     "delete_cmd_prefix": "rm(",
     "library": "var_list.r",
     "varRefreshCmd": "cat(var_dic_list()) "
    }
   },
   "types_to_exclude": [
    "module",
    "function",
    "builtin_function_or_method",
    "instance",
    "_Feature"
   ],
   "window_display": false
  }
 },
 "nbformat": 4,
 "nbformat_minor": 5
}
