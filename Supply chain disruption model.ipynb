{
 "cells": [
  {
   "cell_type": "code",
   "execution_count": null,
   "id": "19463380",
   "metadata": {},
   "outputs": [],
   "source": [
    "from pathlib import Path\n",
    "import sys, csv\n",
    "from datetime import datetime\n",
    "#src_path = str(Path.cwd().parent / \"src\")\n",
    "#sys.path.append(src_path)\n",
    "\n",
    "import numpy as np\n",
    "import pandas as pd\n",
    "import random\n",
    "#from scipy.stats import poisson\n",
    "\n",
    "from sklearn.pipeline import Pipeline\n",
    "#!pip install scikit-survival\n",
    "\n",
    "import plotly.express as px\n",
    "\n",
    "from Supply_chain_disruption_model import SimulationModel\n",
    "import Supply_chain_disruption_model as scd\n",
    "import Centrality as cen"
   ]
  },
  {
   "cell_type": "markdown",
   "id": "08a86e2e",
   "metadata": {},
   "source": [
    "# Simulation"
   ]
  },
  {
   "cell_type": "markdown",
   "id": "8c3d18e1",
   "metadata": {},
   "source": [
    "Generate data."
   ]
  },
  {
   "cell_type": "code",
   "execution_count": null,
   "id": "6d747e15",
   "metadata": {},
   "outputs": [],
   "source": [
    "# dim: number of firms\n",
    "dim = 100\n",
    "# nb_s: number of sectors\n",
    "nb_s = 5\n",
    "\n",
    "random.seed(42)\n",
    "adj, A, C, sector = scd.generate_data(dim, nb_s)"
   ]
  },
  {
   "cell_type": "markdown",
   "id": "02f7d722",
   "metadata": {},
   "source": [
    "Define model parameters."
   ]
  },
  {
   "cell_type": "code",
   "execution_count": null,
   "id": "09937bae",
   "metadata": {
    "code_folding": []
   },
   "outputs": [],
   "source": [
    "# p: The proportion (percentage/100) of firms that are damaged by the disruption. (default is 0.1)\n",
    "# damage_level: The average amount of damage inflicted on affected firms. On average, (100*damage_level)% of the \n",
    "#     production capacity is damaged. (default is 0.2)\n",
    "# margin: Specifies the margin around the given average damage level. The actual damage will lie between \n",
    "#     (damage_level - margin) and (damage_level + margin), truncated from below by zero and from above by one. \n",
    "#     (default is 0.1)\n",
    "# tau: The number of days over which the inventory is restored to the target value. (default is 6)\n",
    "# k: The average target inventory of a firm, specified as number of days of product use. (default is 9)\n",
    "#     value=9 from paper inoue_firm-level_2019\n",
    "# gamma: The recovery rate of damaged firms. (default is 0.5)\n",
    "# sigma: The number of days without recovery and production in the firms damaged after the disruption. (default is 6)\n",
    "# alpha: The number of days a firm tolerates a negative inventory of a supplier, before it tries to replace the supplier. \n",
    "#     (default is 2)\n",
    "# u: Each firm has on average (100*u)% capacity utilization. This is used to assign a maximum possible production \n",
    "#     capacity to each firm. (default is 0.8)\n",
    "# max_init_inventory: Whether firms initially have a full inventory or not. (default is True)\n",
    "# fixed_target_inventory: Whether the target inventory value is fixed or determined on the previous day's realized \n",
    "#     demand. (default is True)\n",
    "# nb_iter: The number of iterations (days) to run the simulation. (default is 100)\n",
    "param = {\"p\": 0.1, \"damage_level\": 0.2, \"margin\": 0.1, \"tau\": 6, \"k\": 9, \"gamma\": 0.5, \"sigma\": 6, \"alpha\": 2, \n",
    "         \"u\": 0.8, \"max_init_inventory\": False, \"fixed_target_inventory\": True, \"nb_iter\": 1*365}"
   ]
  },
  {
   "cell_type": "markdown",
   "id": "4825cae0",
   "metadata": {},
   "source": [
    "Execute the simulation."
   ]
  },
  {
   "cell_type": "code",
   "execution_count": null,
   "id": "000c1066",
   "metadata": {
    "scrolled": true
   },
   "outputs": [],
   "source": [
    "# intialize the model\n",
    "mdl = SimulationModel(A, sector, C, **param)\n",
    "\n",
    "# time the simulation\n",
    "start=datetime.now()  \n",
    "\n",
    "# run the model\n",
    "mdl.run_simulation(print_iter=False)\n",
    "\n",
    "print(f\"runtime: {datetime.now()-start}\")"
   ]
  },
  {
   "cell_type": "code",
   "execution_count": null,
   "id": "9aeebb53",
   "metadata": {},
   "outputs": [],
   "source": [
    "print(f\"{len(mdl.damaged_ind)} firms were damaged by the disruption, which is {100*len(mdl.damaged_ind)/dim :.1f}%.\")\n",
    "print(f\"{len(mdl.defaults)} out of {dim} firms defaulted, which is {100*len(mdl.defaults)/dim :.1f}%.\")\n",
    "\n",
    "damaged_and_defaulted = list(set(mdl.damaged_ind) & set(mdl.defaults.keys()))\n",
    "\n",
    "if len(mdl.damaged_ind) > 0:\n",
    "    perc_damaged_and_defaulted_of_damaged = 100*len(damaged_and_defaulted)/len(mdl.damaged_ind)\n",
    "    print(f\"Of the damaged firms, {perc_damaged_and_defaulted_of_damaged :.1f}% defaulted, \"\n",
    "          f\"{100 - perc_damaged_and_defaulted_of_damaged :.1f}% survived.\")\n",
    "\n",
    "if len(mdl.defaults)> 0:\n",
    "    perc_damaged_and_defaulted_of_defaulted = 100*len(damaged_and_defaulted)/len(mdl.defaults)\n",
    "    print(f\"Of the defaulted firms, {perc_damaged_and_defaulted_of_defaulted :.1f}% had been damaged, \"\n",
    "          f\"{100 - perc_damaged_and_defaulted_of_defaulted :.1f}% had not been damaged. \\n\")\n",
    "\n",
    "    print(f\"This means {100 - perc_damaged_and_defaulted_of_defaulted :.1f}% of the firms that defaulted did so due to \"\n",
    "\n",
    "          f\"network propagation of the damage.\")\n",
    "\n",
    "#print(f\"damaged firms that also defaulted: \\n{sorted(damaged_and_defaulted)}\\n\")\n",
    "#print(f\"damaged (ind): \\n{mdl.damaged_ind} \\n\")\n",
    "#print(f\"defaults (ind: iteration): \\n{mdl.defaults} \\n\")\n",
    "#print(f\"defaulted firms: \\n{sorted(mdl.defaults.keys())} \\n\")\n",
    "#print(f\"default times: \\n{sorted(mdl.defaults.values())}\")"
   ]
  },
  {
   "cell_type": "code",
   "execution_count": null,
   "id": "c0b5a09c",
   "metadata": {},
   "outputs": [],
   "source": [
    "print(f\"defaulted firms: {sorted(list(mdl.defaults.keys()))}\\n\")\n",
    "print(f\"damaged firms: {sorted(mdl.damaged_ind)}\")"
   ]
  },
  {
   "cell_type": "code",
   "execution_count": null,
   "id": "578e4ec5",
   "metadata": {},
   "outputs": [],
   "source": [
    "# filter which firms are plotted\n",
    "# select_firms = \"all\" or [], \"damaged\", \"not_damaged\", arr of specific firm indices\n",
    "select_firms = \"all\"\n",
    "mdl.plot_capacity(relative=True, col_by_sector=False, show_leg=True, select_firms=select_firms)"
   ]
  },
  {
   "cell_type": "code",
   "execution_count": null,
   "id": "134e713a",
   "metadata": {},
   "outputs": [],
   "source": [
    "#mdl.plot_capacity(relative=True, col_by_sector=True, show_leg=True, select_firms=[])"
   ]
  },
  {
   "cell_type": "code",
   "execution_count": null,
   "id": "23a66368",
   "metadata": {},
   "outputs": [],
   "source": [
    "#mdl.plot_capacity(relative=False, col_by_sector=False)"
   ]
  },
  {
   "cell_type": "markdown",
   "id": "9b8f1392",
   "metadata": {},
   "source": [
    "# Calculate average production loss"
   ]
  },
  {
   "cell_type": "code",
   "execution_count": null,
   "id": "47b6c272",
   "metadata": {},
   "outputs": [],
   "source": [
    "# relative production capacity data\n",
    "prodcap_df = mdl.get_prod_capacity_df(relative=True, select_firms=[])\n",
    "prodcap_df"
   ]
  },
  {
   "cell_type": "code",
   "execution_count": null,
   "id": "b05b2cf7",
   "metadata": {},
   "outputs": [],
   "source": [
    "prodcap_df[\"prod_loss\"] = 1 - prodcap_df[\"prod_cap\"]\n",
    "df_filtered = prodcap_df[prodcap_df[\"prod_loss\"] >= 0].copy()\n",
    "df_filtered"
   ]
  },
  {
   "cell_type": "code",
   "execution_count": null,
   "id": "48af03d9",
   "metadata": {},
   "outputs": [],
   "source": [
    "df = df_filtered.groupby(\"firm\")[\"prod_loss\"].sum().to_frame()\n",
    "df.reset_index(inplace=True)\n",
    "df.rename(columns={\"prod_loss\": \"tot_prod_loss\"}, inplace=True)\n",
    "df[\"avg_prod_loss\"] = df[\"tot_prod_loss\"]/(mdl.param[\"nb_iter\"] + 1)\n",
    "df = df.merge(pd.DataFrame(np.transpose([mdl.sector, np.array(range(mdl.dim()))]), columns=[\"sector\",\"firm\"]), on='firm')\n",
    "df = df[['firm', 'sector', 'avg_prod_loss']]\n",
    "df"
   ]
  },
  {
   "cell_type": "code",
   "execution_count": null,
   "id": "3c665c2c",
   "metadata": {},
   "outputs": [],
   "source": [
    "damaged = np.zeros(dim).astype(int)\n",
    "damaged[mdl.damaged_ind] = 1\n",
    "defaulted = np.zeros(dim).astype(int)\n",
    "defaulted[list(mdl.defaults.keys())] = 1\n",
    "df[\"damaged\"] = damaged\n",
    "df[\"defaulted\"] = defaulted\n",
    "\n",
    "df"
   ]
  },
  {
   "cell_type": "markdown",
   "id": "486fcd87",
   "metadata": {},
   "source": [
    "## PN score"
   ]
  },
  {
   "cell_type": "code",
   "execution_count": null,
   "id": "c70dc712",
   "metadata": {},
   "outputs": [],
   "source": [
    "scores = cen.PN_score(adj).reshape(1,-1)[0]"
   ]
  },
  {
   "cell_type": "code",
   "execution_count": null,
   "id": "72a915fd",
   "metadata": {},
   "outputs": [],
   "source": [
    "fig = px.scatter(x=scores, y=df[\"avg_prod_loss\"].values, color=damaged, symbol=defaulted, \n",
    "                 title=\"Absolute values in adjacency matrix\",\n",
    "                 labels={'x':'PN score', 'y':'mean daily production loss', 'color':'damaged', 'symbol':'defaulted'}) \n",
    "fig.show()"
   ]
  },
  {
   "cell_type": "code",
   "execution_count": null,
   "id": "344df1b0",
   "metadata": {},
   "outputs": [],
   "source": [
    "adj_bin = np.copy(adj)\n",
    "adj_bin[adj_bin > 0] = 1\n",
    "adj_bin[adj_bin < 0] = -1\n",
    "\n",
    "scores_bin = cen.PN_score(adj_bin).reshape(1,-1)[0]"
   ]
  },
  {
   "cell_type": "code",
   "execution_count": null,
   "id": "60e1d00e",
   "metadata": {},
   "outputs": [],
   "source": [
    "fig = px.scatter(x=scores_bin, y=prod_loss[\"avg_prod_loss\"].values, color=damaged, symbol=defaulted, \n",
    "                 title=\"Absolute values in adjacency matrix\",\n",
    "                 labels={'x':'PN score', 'y':'mean daily production loss', 'color':'damaged', 'symbol':'defaulted'}) \n",
    "fig.show()"
   ]
  },
  {
   "cell_type": "markdown",
   "id": "0d120638",
   "metadata": {},
   "source": [
    "# Multiple simulations"
   ]
  },
  {
   "cell_type": "code",
   "execution_count": null,
   "id": "4534c7a1",
   "metadata": {},
   "outputs": [],
   "source": [
    "random.seed(42)"
   ]
  },
  {
   "cell_type": "code",
   "execution_count": null,
   "id": "97dcfc25",
   "metadata": {},
   "outputs": [],
   "source": [
    "# dim: number of firms\n",
    "dim = 100\n",
    "# nb_s: number of sectors\n",
    "nb_s = 8\n",
    "\n",
    "adj, A, C, sector = scd.generate_data(dim, nb_s)"
   ]
  },
  {
   "cell_type": "code",
   "execution_count": null,
   "id": "193fcdb7",
   "metadata": {},
   "outputs": [],
   "source": [
    "# p = [0.1, 0.2, 0.3]\n",
    "# damage_level = [0.2, 0.4, 0.8]\n",
    "# k = [3, 9]\n",
    "# alpha = 3  # [3, 5]\n",
    "# u = [0.7, 0.8]\n",
    "# max_init_inventory = False\n",
    "# nb_iter = 3*365\n",
    "# \n",
    "# nb_exp = 36\n",
    "# \n",
    "# setup = pd.DataFrame(columns=['p', 'damage_level', 'k', 'alpha', 'u', 'max_init_inventory', 'nb_iter'])\n",
    "# setup[\"p\"] = np.repeat(p, nb_exp/3)\n",
    "# setup[\"damage_level\"] = np.repeat([np.repeat(damage_level, nb_exp/3/3)], 3, axis=0).reshape(-1,1)\n",
    "# setup[\"k\"] = np.repeat([np.repeat(k, nb_exp/3/3/2)], 3*3, axis=0).reshape(-1,1)\n",
    "# #setup[\"alpha\"] = np.repeat([np.repeat(alpha, nb_exp/3/3/2/2)], 3*3*2, axis=0).reshape(-1,1)\n",
    "# #setup[\"u\"] = np.repeat([np.repeat(u, nb_exp/3/3/2/2/2)], 3*3*2*2, axis=0).reshape(-1,1)\n",
    "# setup[\"alpha\"] = alpha\n",
    "# setup[\"u\"] = np.repeat([np.repeat(u, nb_exp/3/3/2/2)], 3*3*2, axis=0).reshape(-1,1)\n",
    "# setup[\"max_init_inventory\"] = max_init_inventory\n",
    "# setup[\"nb_iter\"] = nb_iter\n",
    "# setup[\"setup_nb\"] = range(setup.shape[0])\n",
    "# setup.head(10)\n",
    "# setup.to_csv('sim_setup.csv', index=False)"
   ]
  },
  {
   "cell_type": "code",
   "execution_count": null,
   "id": "f71baf14",
   "metadata": {},
   "outputs": [],
   "source": [
    "sim_setup_og = pd.read_csv('sim_setup.csv')\n",
    "#sim_setup.to_dict(orient='list')\n",
    "setup_nbs = sim_setup_og[\"setup_nb\"]\n",
    "sim_setup = sim_setup_og[['p', 'damage_level', 'k', 'alpha', 'u', 'max_init_inventory', 'nb_iter']]\n",
    "sim_setup"
   ]
  },
  {
   "cell_type": "code",
   "execution_count": null,
   "id": "d17aaeb4",
   "metadata": {},
   "outputs": [],
   "source": [
    "nb_rep = 5\n",
    "\n",
    "for i in range(sim_setup.shape[0]):\n",
    "    \n",
    "    for j in range(nb_rep):\n",
    "    \n",
    "        param = dict(sim_setup.loc[i])\n",
    "        mdl = SimulationModel(A, sector, C, **param)\n",
    "        mdl.run_simulation(print_iter=False)\n",
    "        \n",
    "        prodcap_df = mdl.get_prod_capacity_df(relative=True)\n",
    "        \n",
    "        prodcap_df[\"prod_loss\"] = 1 - prodcap_df[\"prod_cap\"]\n",
    "        df_filtered = prodcap_df[prodcap_df[\"prod_loss\"] >= 0].copy()\n",
    "        \n",
    "        df = df_filtered.groupby(\"firm\")[\"prod_loss\"].sum().to_frame()\n",
    "        df.reset_index(inplace=True)\n",
    "        df[\"avg_prod_loss\"] = df[\"prod_loss\"]/(mdl.param[\"nb_iter\"] + 1)\n",
    "        df = df.merge(pd.DataFrame(np.transpose([mdl.sector, np.array(range(mdl.dim()))]), columns=[\"sector\",\"firm\"]), \n",
    "                      on='firm')\n",
    "        df = df[['firm', 'sector', 'avg_prod_loss']]\n",
    "        \n",
    "        damaged = np.zeros(mdl.dim()).astype(int)\n",
    "        damaged[mdl.damaged_ind] = 1\n",
    "        defaulted = np.zeros(mdl.dim()).astype(int)\n",
    "        defaulted[list(mdl.defaults.keys())] = 1\n",
    "        df[\"damaged\"] = damaged\n",
    "        df[\"defaulted\"] = defaulted\n",
    "        \n",
    "        df[\"setup\"] = setup_nbs.loc[i]\n",
    "        df[\"rep\"] = j\n",
    "        \n",
    "        if i == 0 and j == 0:\n",
    "            df.to_csv('sim_results2.csv', index=False, header=True)\n",
    "        else:\n",
    "            df.to_csv('sim_results2.csv', mode='a', index=False, header=False)"
   ]
  },
  {
   "cell_type": "code",
   "execution_count": null,
   "id": "a4f6a0e6",
   "metadata": {},
   "outputs": [],
   "source": [
    "sim_res = pd.read_csv('sim_results.csv')\n",
    "sim_res"
   ]
  },
  {
   "cell_type": "markdown",
   "id": "5ca74b28",
   "metadata": {},
   "source": [
    "Filter out the damaged firms."
   ]
  },
  {
   "cell_type": "code",
   "execution_count": null,
   "id": "48afce86",
   "metadata": {},
   "outputs": [],
   "source": [
    "sim_res = sim_res[sim_res[\"damaged\"] == 0]\n",
    "sim_res"
   ]
  },
  {
   "cell_type": "markdown",
   "id": "105eb084",
   "metadata": {},
   "source": [
    "Take average over replications."
   ]
  },
  {
   "cell_type": "code",
   "execution_count": null,
   "id": "ae1b0ebf",
   "metadata": {},
   "outputs": [],
   "source": [
    "df = sim_res.groupby([\"firm\",\"sector\",\"setup\"])[\"avg_prod_loss\"].mean().to_frame()\n",
    "df.reset_index(inplace=True)\n",
    "df"
   ]
  },
  {
   "cell_type": "code",
   "execution_count": null,
   "id": "9bcd9a44",
   "metadata": {},
   "outputs": [],
   "source": [
    "df = df.merge(sim_setup_og, left_on='setup', right_on='setup_nb')\n",
    "df"
   ]
  },
  {
   "cell_type": "code",
   "execution_count": null,
   "id": "1bcbf6e6",
   "metadata": {},
   "outputs": [],
   "source": [
    "scores = cen.PN_score(adj).reshape(1,-1)[0]\n",
    "\n",
    "adj_bin = np.copy(adj)\n",
    "adj_bin[adj_bin > 0] = 1\n",
    "adj_bin[adj_bin < 0] = -1\n",
    "scores_bin = cen.PN_score(adj_bin).reshape(1,-1)[0]"
   ]
  },
  {
   "cell_type": "code",
   "execution_count": null,
   "id": "632debdb",
   "metadata": {},
   "outputs": [],
   "source": [
    "firm_scores = pd.DataFrame(np.transpose(np.array([range(mdl.dim()),scores])), columns=[\"firm\",\"score\"])\n",
    "firm_scores[\"score_bin\"] = scores_bin\n",
    "df = df.merge(firm_scores, on='firm')\n",
    "df"
   ]
  },
  {
   "cell_type": "code",
   "execution_count": null,
   "id": "ed59671f",
   "metadata": {},
   "outputs": [],
   "source": [
    "fig = px.scatter(x=df.score, y=df.avg_prod_loss, title=\"Absolute values in adjacency matrix\",\n",
    "                 labels={'x':'PN score', 'y':'mean daily production loss'}) \n",
    "fig.show()"
   ]
  },
  {
   "cell_type": "code",
   "execution_count": null,
   "id": "8aa42e64",
   "metadata": {},
   "outputs": [],
   "source": [
    "fig = px.scatter(x=df.score_bin, y=df.avg_prod_loss, title=\"Binary values in adjacency matrix\",\n",
    "                 labels={'x':'PN score', 'y':'mean daily production loss'}) \n",
    "fig.show()"
   ]
  },
  {
   "cell_type": "markdown",
   "id": "7e0940c4",
   "metadata": {},
   "source": [
    "# Build network for visualization in presentation"
   ]
  },
  {
   "cell_type": "code",
   "execution_count": null,
   "id": "4e5975f7",
   "metadata": {},
   "outputs": [],
   "source": [
    "dim = 15\n",
    "nb_s = 5\n",
    "adj, A, C, sector = scd.generate_data(dim, nb_s)"
   ]
  },
  {
   "cell_type": "code",
   "execution_count": null,
   "id": "fbe6c332",
   "metadata": {},
   "outputs": [],
   "source": [
    "df = pd.DataFrame(columns=[\"supplier\",\"customer\"])\n",
    "\n",
    "for i in range(dim):\n",
    "    customer = i\n",
    "    suppliers = A[i]\n",
    "    for j in range(dim):\n",
    "        if suppliers[j] > 0:\n",
    "            df = pd.concat([df, pd.DataFrame([[int(j), i]], columns=[\"supplier\",\"customer\"])])\n",
    "\n",
    "df"
   ]
  },
  {
   "cell_type": "code",
   "execution_count": null,
   "id": "32a61901",
   "metadata": {},
   "outputs": [],
   "source": [
    "#df.to_csv('links.csv', index=False)"
   ]
  },
  {
   "cell_type": "code",
   "execution_count": null,
   "id": "63aa50c1",
   "metadata": {},
   "outputs": [],
   "source": [
    "df_firms = pd.DataFrame(list(range(dim)), columns=[\"firm\"])\n",
    "df_firms[\"sector\"] = sector\n",
    "df_firms"
   ]
  },
  {
   "cell_type": "code",
   "execution_count": null,
   "id": "40f9166d",
   "metadata": {},
   "outputs": [],
   "source": [
    "#df_firms.to_csv('firms.csv', index=False)"
   ]
  },
  {
   "cell_type": "code",
   "execution_count": null,
   "id": "aeecc6cf",
   "metadata": {},
   "outputs": [],
   "source": []
  }
 ],
 "metadata": {
  "kernelspec": {
   "display_name": "Python 3 (ipykernel)",
   "language": "python",
   "name": "python3"
  },
  "language_info": {
   "codemirror_mode": {
    "name": "ipython",
    "version": 3
   },
   "file_extension": ".py",
   "mimetype": "text/x-python",
   "name": "python",
   "nbconvert_exporter": "python",
   "pygments_lexer": "ipython3",
   "version": "3.9.5"
  },
  "latex_envs": {
   "LaTeX_envs_menu_present": true,
   "autoclose": false,
   "autocomplete": true,
   "bibliofile": "biblio.bib",
   "cite_by": "apalike",
   "current_citInitial": 1,
   "eqLabelWithNumbers": true,
   "eqNumInitial": 1,
   "hotkeys": {
    "equation": "Ctrl-E",
    "itemize": "Ctrl-I"
   },
   "labels_anchors": false,
   "latex_user_defs": false,
   "report_style_numbering": false,
   "user_envs_cfg": false
  },
  "toc": {
   "base_numbering": 1,
   "nav_menu": {},
   "number_sections": true,
   "sideBar": true,
   "skip_h1_title": false,
   "title_cell": "Table of Contents",
   "title_sidebar": "Contents",
   "toc_cell": false,
   "toc_position": {
    "height": "calc(100% - 180px)",
    "left": "10px",
    "top": "150px",
    "width": "375.467px"
   },
   "toc_section_display": true,
   "toc_window_display": true
  },
  "varInspector": {
   "cols": {
    "lenName": 16,
    "lenType": 16,
    "lenVar": 40
   },
   "kernels_config": {
    "python": {
     "delete_cmd_postfix": "",
     "delete_cmd_prefix": "del ",
     "library": "var_list.py",
     "varRefreshCmd": "print(var_dic_list())"
    },
    "r": {
     "delete_cmd_postfix": ") ",
     "delete_cmd_prefix": "rm(",
     "library": "var_list.r",
     "varRefreshCmd": "cat(var_dic_list()) "
    }
   },
   "types_to_exclude": [
    "module",
    "function",
    "builtin_function_or_method",
    "instance",
    "_Feature"
   ],
   "window_display": false
  }
 },
 "nbformat": 4,
 "nbformat_minor": 5
}
