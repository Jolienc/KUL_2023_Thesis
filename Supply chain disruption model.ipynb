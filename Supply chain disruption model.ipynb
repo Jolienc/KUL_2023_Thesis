{
 "cells": [
  {
   "cell_type": "code",
   "execution_count": null,
   "id": "19463380",
   "metadata": {},
   "outputs": [],
   "source": [
    "from pathlib import Path\n",
    "import sys\n",
    "#src_path = str(Path.cwd().parent / \"src\")\n",
    "#sys.path.append(src_path)\n",
    "\n",
    "from Supply_chain_disruption_model import SimulationModel, generate_data, PN_score\n",
    "\n",
    "import numpy as np\n",
    "#from scipy.stats import poisson\n",
    "#import random\n",
    "import pandas as pd\n",
    "import plotly.express as px\n",
    "\n",
    "#!pip install scikit-survival\n",
    "\n",
    "from datetime import datetime"
   ]
  },
  {
   "cell_type": "code",
   "execution_count": null,
   "id": "506fad2e",
   "metadata": {},
   "outputs": [],
   "source": [
    "adj, C, sector = generate_data(dim=100, nb_s=3)\n",
    "A = np.copy(adj)\n",
    "A[A <= 0] = 0\n",
    "print(f\"{np.sum(A > 0)} non-zero entries, which is {np.sum(A > 0)*100/50**2 :.2f}%\")"
   ]
  },
  {
   "cell_type": "markdown",
   "id": "08a86e2e",
   "metadata": {},
   "source": [
    "# Simulation"
   ]
  },
  {
   "cell_type": "markdown",
   "id": "02f7d722",
   "metadata": {},
   "source": [
    "Define model parameters."
   ]
  },
  {
   "cell_type": "code",
   "execution_count": null,
   "id": "09937bae",
   "metadata": {},
   "outputs": [],
   "source": [
    "# number of firms\n",
    "dim = 100\n",
    "# percentage of firms which are damaged / 100\n",
    "p = 0.2\n",
    "damage_level = 0.5\n",
    "margin = 0.2\n",
    "# time-period over which inventory is restored (days)\n",
    "tau = 6\n",
    "# average nb days of product each firm has in inventory for target inventory value\n",
    "# value=9 from paper inoue_firm-level_2019\n",
    "k = 9\n",
    "# number of sectors\n",
    "nb_s = 3\n",
    "# recovery rate\n",
    "gamma = 0.2\n",
    "# number of days without recovery\n",
    "sigma = 6\n",
    "alpha = 3\n",
    "u = 0.8\n",
    "\n",
    "nb_iter = 1000"
   ]
  },
  {
   "cell_type": "markdown",
   "id": "8c3d18e1",
   "metadata": {},
   "source": [
    "Generate data."
   ]
  },
  {
   "cell_type": "code",
   "execution_count": null,
   "id": "6d747e15",
   "metadata": {},
   "outputs": [],
   "source": [
    "adj, C, sector = generate_data(dim, nb_s)\n",
    "A = np.copy(adj)\n",
    "A[A <= 0] = 0"
   ]
  },
  {
   "cell_type": "markdown",
   "id": "4825cae0",
   "metadata": {},
   "source": [
    "Execute the simulation."
   ]
  },
  {
   "cell_type": "code",
   "execution_count": null,
   "id": "000c1066",
   "metadata": {
    "scrolled": true
   },
   "outputs": [],
   "source": [
    "# intialize the model\n",
    "mdl = SimulationModel(A, sector, C, p, damage_level, margin, k, gamma, tau, sigma, alpha, u, nb_iter)\n",
    "\n",
    "# time the simulation\n",
    "start=datetime.now()  \n",
    "\n",
    "# run the model\n",
    "mdl.run_simulation(print_iter=False)\n",
    "\n",
    "print(f\"runtime: {datetime.now()-start}\")\n",
    "# for 1000 firms and 1000 iterations, runtime is 9 minutes"
   ]
  },
  {
   "cell_type": "markdown",
   "id": "73f098ac",
   "metadata": {},
   "source": [
    "For the following setup, the runtime was `0:08:52.834090`:\n",
    " - `dim = 1000`\n",
    " - `p = 0.1`\n",
    " - `damage_level = 0.5`\n",
    " - `margin = 0.2`\n",
    " - `tau = 6`\n",
    " - `k = 9`\n",
    " - `nb_s = 25`\n",
    " - `gamma = 0.2`\n",
    " - `sigma = 6`\n",
    " - `alpha = 2`\n",
    " - `u = 0.8`\n",
    " - `nb_iter = 1000`"
   ]
  },
  {
   "cell_type": "code",
   "execution_count": null,
   "id": "9aeebb53",
   "metadata": {},
   "outputs": [],
   "source": [
    "print(f\"{len(mdl.damaged_ind)} firms were damaged by the disruption, which is {100*len(mdl.damaged_ind)/dim :.1f}%.\")\n",
    "print(f\"{len(mdl.defaults)} out of {dim} firms defaulted, which is {100*len(mdl.defaults)/dim :.1f}%.\")\n",
    "\n",
    "damaged_and_defaulted = list(set(mdl.damaged_ind) & set(mdl.defaults.keys()))\n",
    "perc_damaged_and_defaulted_of_damaged = 100*len(damaged_and_defaulted)/len(mdl.damaged_ind)\n",
    "print(f\"Of the damaged firms, {perc_damaged_and_defaulted_of_damaged :.1f}% defaulted, \"\n",
    "      f\"{100 - perc_damaged_and_defaulted_of_damaged :.1f}% survived.\")\n",
    "\n",
    "perc_damaged_and_defaulted_of_defaulted = 100*len(damaged_and_defaulted)/len(mdl.defaults)\n",
    "print(f\"Of the defaulted firms, {perc_damaged_and_defaulted_of_defaulted :.1f}% had been damaged, \"\n",
    "      f\"{100 - perc_damaged_and_defaulted_of_defaulted :.1f}% had not been damaged. \\n\")\n",
    "\n",
    "print(f\"This means {100 - perc_damaged_and_defaulted_of_defaulted :.1f}% of the firms that defaulted did so due to \"\n",
    "      f\"network propagation of the damage.\")\n",
    "\n",
    "#print(f\"damaged firms that also defaulted: \\n{sorted(damaged_and_defaulted)}\\n\")\n",
    "#print(f\"damaged (ind): \\n{mdl.damaged_ind} \\n\")\n",
    "#print(f\"defaults (ind: iteration): \\n{mdl.defaults} \\n\")\n",
    "#print(f\"defaulted firms: \\n{sorted(mdl.defaults.keys())} \\n\")\n",
    "#print(f\"default times: \\n{sorted(mdl.defaults.values())}\")"
   ]
  },
  {
   "cell_type": "code",
   "execution_count": null,
   "id": "23a66368",
   "metadata": {},
   "outputs": [],
   "source": [
    "mdl.plot_act_capacity(col_by_sector=False)"
   ]
  },
  {
   "cell_type": "code",
   "execution_count": null,
   "id": "578e4ec5",
   "metadata": {},
   "outputs": [],
   "source": [
    "mdl.plot_rel_capacity(col_by_sector=False)"
   ]
  },
  {
   "cell_type": "code",
   "execution_count": null,
   "id": "134e713a",
   "metadata": {},
   "outputs": [],
   "source": [
    "mdl.plot_rel_capacity(col_by_sector=True)"
   ]
  },
  {
   "cell_type": "markdown",
   "id": "d217b328",
   "metadata": {},
   "source": [
    "# PN score"
   ]
  },
  {
   "cell_type": "code",
   "execution_count": null,
   "id": "b470cc43",
   "metadata": {},
   "outputs": [],
   "source": [
    "scores = PN_score(adj).reshape(1,-1)[0]"
   ]
  },
  {
   "cell_type": "code",
   "execution_count": null,
   "id": "e305a596",
   "metadata": {},
   "outputs": [],
   "source": [
    "default_times = np.zeros(dim)\n",
    "max_default_time = np.max(list(mdl.defaults.values()))\n",
    "for i in range(len(default_times)):\n",
    "    if i in mdl.defaults:\n",
    "        default_times[i] = mdl.defaults[i] \n",
    "    else:\n",
    "        default_times[i] = max_default_time + 10"
   ]
  },
  {
   "cell_type": "code",
   "execution_count": null,
   "id": "af50c89c",
   "metadata": {},
   "outputs": [],
   "source": [
    "damaged = np.zeros(dim).astype(int).astype(str)\n",
    "damaged[mdl.damaged_ind] = str(1)\n",
    "\n",
    "defaulted = np.zeros(dim).astype(int).astype(str)\n",
    "defaulted[list(mdl.defaults.keys())] = str(1)"
   ]
  },
  {
   "cell_type": "code",
   "execution_count": null,
   "id": "5df45a2e",
   "metadata": {},
   "outputs": [],
   "source": [
    "fig = px.scatter(x=scores, y=default_times, color=damaged, symbol=defaulted, \n",
    "                 title=\"Absolute values in adjacency matrix\",\n",
    "                 labels={'x':'PN score', 'y':'default time (day)', 'color':'damaged', 'symbol':'defaulted'}) \n",
    "# , trendline='ols'\n",
    "fig.show()"
   ]
  },
  {
   "cell_type": "code",
   "execution_count": null,
   "id": "184e76e3",
   "metadata": {},
   "outputs": [],
   "source": [
    "adj_bin = np.copy(adj)\n",
    "adj_bin[adj_bin > 0] = 1\n",
    "adj_bin[adj_bin < 0] = -1\n",
    "\n",
    "scores_bin = PN_score(adj_bin).reshape(1,-1)[0]"
   ]
  },
  {
   "cell_type": "code",
   "execution_count": null,
   "id": "2fc8745c",
   "metadata": {},
   "outputs": [],
   "source": [
    "fig = px.scatter(x=scores_bin, y=default_times, color=damaged, symbol=defaulted, \n",
    "                 title=\"Binary values in adjacency matrix\",\n",
    "                 labels={'x':'PN score', 'y':'default time (day)', 'color':'damaged', 'symbol':'defaulted'}) \n",
    "# , trendline='ols'\n",
    "fig.show()"
   ]
  },
  {
   "cell_type": "markdown",
   "id": "54e7a070",
   "metadata": {},
   "source": [
    "# Survival analysis"
   ]
  },
  {
   "cell_type": "code",
   "execution_count": null,
   "id": "b5f6c87e",
   "metadata": {},
   "outputs": [],
   "source": [
    "damaged_bool = damaged.astype(bool)\n",
    "defaulted_bool = defaulted.astype(bool)"
   ]
  },
  {
   "cell_type": "code",
   "execution_count": null,
   "id": "864c2b96",
   "metadata": {
    "scrolled": true
   },
   "outputs": [],
   "source": [
    "data_y = pd.DataFrame(np.transpose([defaulted_bool,default_times]), columns=[\"defaulted\",\"default_time\"])\n",
    "data_y[\"defaulted\"] = data_y[\"defaulted\"].astype(bool)\n",
    "data_y.head()"
   ]
  },
  {
   "cell_type": "code",
   "execution_count": null,
   "id": "5be53dda",
   "metadata": {},
   "outputs": [],
   "source": [
    "data_x = pd.DataFrame(np.transpose([scores,damaged_bool]), columns=[\"PN\",\"damaged\"])\n",
    "data_x[\"damaged\"] = data_x[\"damaged\"].astype(bool)\n",
    "data_x.head()"
   ]
  },
  {
   "cell_type": "code",
   "execution_count": null,
   "id": "359179ec",
   "metadata": {},
   "outputs": [],
   "source": [
    "import matplotlib.pyplot as plt\n",
    "from sksurv.nonparametric import kaplan_meier_estimator\n",
    "\n",
    "time, survival_prob = kaplan_meier_estimator(data_y[\"defaulted\"], data_y[\"default_time\"])\n",
    "plt.step(time, survival_prob, where=\"post\")\n",
    "plt.ylabel(\"est. probability of survival $\\hat{S}(t)$\")\n",
    "plt.xlabel(\"time $t$\")\n",
    "plt.show()"
   ]
  },
  {
   "cell_type": "code",
   "execution_count": null,
   "id": "b2568b4f",
   "metadata": {},
   "outputs": [],
   "source": [
    "for damage_status in (True, False):\n",
    "    mask_damaged = data_x[\"damaged\"] == damage_status\n",
    "    time_damaged, survival_prob_damaged = kaplan_meier_estimator(\n",
    "        data_y[\"defaulted\"][mask_damaged],\n",
    "        data_y[\"default_time\"][mask_damaged])\n",
    "\n",
    "    plt.step(time_damaged, survival_prob_damaged, where=\"post\",\n",
    "             label=\"Damaged = %s\" % damage_status)\n",
    "\n",
    "plt.ylabel(\"est. probability of survival $\\hat{S}(t)$\")\n",
    "plt.xlabel(\"time $t$\")\n",
    "plt.legend(loc=\"best\")\n",
    "plt.show()"
   ]
  },
  {
   "cell_type": "code",
   "execution_count": null,
   "id": "4e28d0e3",
   "metadata": {},
   "outputs": [],
   "source": [
    "from sklearn import set_config\n",
    "from sksurv.linear_model import CoxPHSurvivalAnalysis\n",
    "\n",
    "set_config(display=\"text\")  # displays text representation of estimators\n",
    "\n",
    "data_x_numeric = data_x.copy()\n",
    "data_x_numeric[\"damaged\"] = data_x_numeric[\"damaged\"].astype(float)\n",
    "\n",
    "dt = np.dtype([('defaulted', '?'), ('default_time', '<f8')])\n",
    "data_y = np.array(list(zip(defaulted_bool,default_times)), dtype=dt)\n",
    "\n",
    "estimator = CoxPHSurvivalAnalysis()\n",
    "estimator.fit(data_x_numeric, data_y)"
   ]
  },
  {
   "cell_type": "code",
   "execution_count": null,
   "id": "84fa9c66",
   "metadata": {},
   "outputs": [],
   "source": [
    "pd.Series(estimator.coef_, index=data_x_numeric.columns)"
   ]
  },
  {
   "cell_type": "code",
   "execution_count": null,
   "id": "f85f9b99",
   "metadata": {},
   "outputs": [],
   "source": [
    "estimator.score(data_x_numeric, data_y)"
   ]
  },
  {
   "cell_type": "code",
   "execution_count": null,
   "id": "528fd075",
   "metadata": {},
   "outputs": [],
   "source": []
  }
 ],
 "metadata": {
  "kernelspec": {
   "display_name": "Python 3 (ipykernel)",
   "language": "python",
   "name": "python3"
  },
  "language_info": {
   "codemirror_mode": {
    "name": "ipython",
    "version": 3
   },
   "file_extension": ".py",
   "mimetype": "text/x-python",
   "name": "python",
   "nbconvert_exporter": "python",
   "pygments_lexer": "ipython3",
   "version": "3.9.5"
  },
  "latex_envs": {
   "LaTeX_envs_menu_present": true,
   "autoclose": false,
   "autocomplete": true,
   "bibliofile": "biblio.bib",
   "cite_by": "apalike",
   "current_citInitial": 1,
   "eqLabelWithNumbers": true,
   "eqNumInitial": 1,
   "hotkeys": {
    "equation": "Ctrl-E",
    "itemize": "Ctrl-I"
   },
   "labels_anchors": false,
   "latex_user_defs": false,
   "report_style_numbering": false,
   "user_envs_cfg": false
  },
  "toc": {
   "base_numbering": 1,
   "nav_menu": {},
   "number_sections": true,
   "sideBar": true,
   "skip_h1_title": false,
   "title_cell": "Table of Contents",
   "title_sidebar": "Contents",
   "toc_cell": false,
   "toc_position": {},
   "toc_section_display": true,
   "toc_window_display": false
  },
  "varInspector": {
   "cols": {
    "lenName": 16,
    "lenType": 16,
    "lenVar": 40
   },
   "kernels_config": {
    "python": {
     "delete_cmd_postfix": "",
     "delete_cmd_prefix": "del ",
     "library": "var_list.py",
     "varRefreshCmd": "print(var_dic_list())"
    },
    "r": {
     "delete_cmd_postfix": ") ",
     "delete_cmd_prefix": "rm(",
     "library": "var_list.r",
     "varRefreshCmd": "cat(var_dic_list()) "
    }
   },
   "types_to_exclude": [
    "module",
    "function",
    "builtin_function_or_method",
    "instance",
    "_Feature"
   ],
   "window_display": false
  }
 },
 "nbformat": 4,
 "nbformat_minor": 5
}
